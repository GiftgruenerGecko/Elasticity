{
 "cells": [
  {
   "cell_type": "markdown",
   "metadata": {},
   "source": [
    "Install packages and generate the mesh"
   ]
  },
  {
   "cell_type": "code",
   "execution_count": 1,
   "metadata": {},
   "outputs": [],
   "source": [
    "# Import packages\n",
    "import netgen.gui\n",
    "from ngsolve import *\n",
    "from ngsolve.solvers import *\n",
    "from ngsolve.webgui import Draw\n",
    "from xfem import *\n",
    "from netgen.geom2d import SplineGeometry\n",
    "import numpy as np\n",
    "\n",
    "\n",
    "# Generate mesh\n",
    "pipe = SplineGeometry()\n",
    "pipe.AddRectangle([-5,0],[5,4],  bcs = (\"wall\" , \"outlet\", \"wall\", \"inlet\"))\n",
    "mesh = Mesh(pipe.GenerateMesh(maxh=0.3, quad_dominated=False))"
   ]
  },
  {
   "cell_type": "markdown",
   "metadata": {},
   "source": [
    "Create a level set function\n",
    "\n",
    "$\\phi = \\sqrt{x^2+y^2}-1$\n",
    "\n",
    "to indicate cell boundary"
   ]
  },
  {
   "cell_type": "code",
   "execution_count": 2,
   "metadata": {
    "scrolled": true
   },
   "outputs": [
    {
     "data": {
      "application/vnd.jupyter.widget-view+json": {
       "model_id": "b81f3500abb341889a2e45db831e9709",
       "version_major": 2,
       "version_minor": 0
      },
      "text/plain": [
       "NGSWebGuiWidget(value={'ngsolve_version': '6.2.2008-64-gea137ded', 'mesh_dim': 2, 'order2d': 2, 'order3d': 2, …"
      ]
     },
     "metadata": {},
     "output_type": "display_data"
    },
    {
     "data": {
      "text/plain": []
     },
     "execution_count": 2,
     "metadata": {},
     "output_type": "execute_result"
    }
   ],
   "source": [
    "# Level set function\n",
    "levelset = (sqrt(x*x+y*y) - 1.0)\n",
    "\n",
    "\n",
    "# Interpolate level set function to piecewise linear function\n",
    "lsV = H1(mesh,order=1)\n",
    "lsetp1 = GridFunction(H1(mesh,order=1))\n",
    "lsetp1_old = GridFunction(lsV)\n",
    "InterpolateToP1(levelset,lsetp1)\n",
    "\n",
    "Draw(lsetp1,mesh)"
   ]
  },
  {
   "cell_type": "markdown",
   "metadata": {},
   "source": [
    "Definie some constants"
   ]
  },
  {
   "cell_type": "code",
   "execution_count": 3,
   "metadata": {},
   "outputs": [],
   "source": [
    "# Normal direction\n",
    "n = 1.0/grad(lsetp1).Norm() * grad(lsetp1)\n",
    "\n",
    "\n",
    "# Mesh size\n",
    "h = specialcf.mesh_size\n",
    "\n",
    "\n",
    "# Viscosity, elasticity constants and density\n",
    "mu = 1\n",
    "lambd = 1\n",
    "rho = 1\n",
    "gamma = 20\n",
    "\n",
    "\n",
    "# Stabilization parameter for ghost-penalty\n",
    "gamma_stab_vel = 0.05  # if set to zero: no GP-stabilization for velocity\n",
    "gamma_stab_dis = 0.05\n",
    "    \n",
    "    \n",
    "# Boundary condition for the displacement\n",
    "disp_D = (0,0)"
   ]
  },
  {
   "cell_type": "markdown",
   "metadata": {},
   "source": [
    "Create the FEM spaces\n",
    "\n",
    "$$V_h = \\{v \\in [H_0^1(\\Omega)]^2|v|_T \\in [\\mathcal{P}^2(T)]^2, T\\in \\mathcal{T}_h\\}$$\n",
    "\n",
    "and set the boundary conditions\n",
    "    $$ u = 0  \\text{ on } \\partial\\Omega\\cap\\partial\\Omega_-$$\n"
   ]
  },
  {
   "cell_type": "code",
   "execution_count": 4,
   "metadata": {},
   "outputs": [
    {
     "data": {
      "application/vnd.jupyter.widget-view+json": {
       "model_id": "72184d1678544a04a474964ed835ea7a",
       "version_major": 2,
       "version_minor": 0
      },
      "text/plain": [
       "NGSWebGuiWidget(value={'ngsolve_version': '6.2.2008-64-gea137ded', 'mesh_dim': 2, 'order2d': 2, 'order3d': 2, …"
      ]
     },
     "metadata": {},
     "output_type": "display_data"
    }
   ],
   "source": [
    "# CutFEM space\n",
    "order = 2\n",
    "ci = CutInfo(mesh, lsetp1)\n",
    "Vhbase = VectorH1(mesh, order=order, dirichlet=\"wall\")\n",
    "Vh = Compress(Vhbase, GetDofsOfElements(Vhbase, ci.GetElementsOfType(HASNEG)))\n",
    "VhG = FESpace([Vh,Vh],dgjumps=True)\n",
    "freedofs = VhG.FreeDofs()\n",
    "\n",
    "\n",
    "# Set boundary conditions\n",
    "gfuold = GridFunction(VhG)\n",
    "gfu = GridFunction(VhG)\n",
    "vel_old, disp_old = gfuold.components #velocity and displacement of the previous time step \n",
    "vel, disp = gfu.components #velocity and displacement\n",
    "disp.Set(disp_D, definedon=mesh.Boundaries(\"wall\"))\n",
    "\n",
    "\n",
    "# Draw velocity or levelset function\n",
    "animation = GridFunction(VhG).components[1]\n",
    "animation = IfPos(-lsetp1, disp, (0,0))\n",
    "#scene = Draw (animation, mesh)\n",
    "scene = Draw(lsetp1,mesh)\n",
    " "
   ]
  },
  {
   "cell_type": "markdown",
   "metadata": {},
   "source": [
    "Timestepping"
   ]
  },
  {
   "cell_type": "code",
   "execution_count": 5,
   "metadata": {},
   "outputs": [],
   "source": [
    "dt = 0.05\n",
    "for i in range(2):\n",
    "    t = i*dt\n",
    "    \n",
    "    \n",
    "    # Update \n",
    "    gfuold = gfu\n",
    "    lsetp1_old = lsetp1\n",
    "    disp.Set(disp_D, definedon=mesh.Boundaries(\"wall\") )\n",
    "\n",
    "    \n",
    "    # Normal direction\n",
    "    n = 1.0/grad(lsetp1).Norm() * grad(lsetp1)\n",
    "    \n",
    "    \n",
    "    # Level set domains\n",
    "    lset_neg = { \"levelset\" : lsetp1, \"domain_type\" : NEG}\n",
    "    lset_pos = { \"levelset\" : lsetp1, \"domain_type\" : POS}\n",
    "    lset_if  = { \"levelset\" : lsetp1, \"domain_type\" : IF }\n",
    "\n",
    "\n",
    "    # Facets on which ghost penalty stabilization should be applied\n",
    "    hasif = ci.GetElementsOfType(IF)\n",
    "    hasneg = ci.GetElementsOfType(HASNEG)\n",
    "    ba_facets = GetFacetsWithNeighborTypes(mesh,a=hasneg,b=hasif, use_and = True)\n",
    "    \n",
    "    \n",
    "    # Test and trial functions\n",
    "    v,u = VhG.TrialFunction()\n",
    "    x,w = VhG.TestFunction()\n",
    "    \n",
    "    \n",
    "    # Some helper expressions:\n",
    "    I = Id(mesh.dim)\n",
    "    F = I-Grad(u)\n",
    "    J = Det(F)\n",
    "    Finv = Inv(F)\n",
    "    FinvT = Inv(F.trans)\n",
    "    def eps(u):\n",
    "        return 0.5*(Grad(u) + Grad(u).trans)\n",
    "    def sigma(u):\n",
    "        return J*Finv*(2*mu*eps(u) + lambd* div(u)*I)*FinvT\n",
    "    "
   ]
  },
  {
   "cell_type": "markdown",
   "metadata": {},
   "source": [
    "Generate a 'bilinear' form $b=a-f$ with\n",
    "\n",
    "$$ a(v,u,x,w) = (v-velold,w)_{L^2(\\Omega_-(t))}+dt\\left((\\rho v \\cdot\\nabla v,w)_{L^2(\\Omega_-(t))}+(\\sigma(u),\\epsilon(w))_{L^2(\\Omega_-(t))}\\right)$$\n",
    "$$ + (u-dispold,x)_{L^2(\\Omega_-(t))}-dt(v+v\\cdot\\nabla u,x)_{L^2(\\Omega_-(t))}$$\n",
    "and $$f(w) = dt (f,w)_{L^2(\\Omega_-(t))}+dt (g,w)_{L^2(\\partial\\Omega_-(t))}$$"
   ]
  },
  {
   "cell_type": "code",
   "execution_count": 6,
   "metadata": {},
   "outputs": [
    {
     "name": "stdout",
     "output_type": "stream",
     "text": [
      "Newton iteration  0\n",
      "err =  0.15744828766308833\n",
      "Newton iteration  1\n",
      "err =  0.0021393279039677838\n",
      "Newton iteration  2\n",
      "err =  0.0003068167289276351\n",
      "Newton iteration  3\n",
      "err =  1.2420757008424347e-06\n",
      "Newton iteration  4\n",
      "err =  2.3491129187170103e-11\n",
      "Newton iteration  5\n",
      "err =  7.52796871025003e-17\n",
      "time : 0.05\n"
     ]
    }
   ],
   "source": [
    "    # Bilinearform a\n",
    "    bfi_neg = SymbolicBFI(levelset_domain = lset_neg, form = dt*(rho*(grad(v)*v)*w+InnerProduct(sigma(u),eps(w))-v*x+(grad(u)*v)*x))\n",
    "    bfi_der = SymbolicBFI(levelset_domain = lset_neg, form = InnerProduct(v-vel_old,w)+InnerProduct(u-disp_old,x))\n",
    "    \n",
    "    \n",
    "    # Linearform f\n",
    "    f_coef = CoefficientFunction((10,0)) # Volume force\n",
    "    g = CoefficientFunction((0,0)) #Surface force\n",
    "    lfi_neg = SymbolicBFI(levelset_domain = lset_neg, form = dt*f_coef*w)\n",
    "    lfi_if = SymbolicBFI(levelset_domain = lset_if, form = dt*g*w) \n",
    "    \n",
    "    \n",
    "    # Ghost penalty terms:\n",
    "    if gamma_stab_vel > 0:\n",
    "        gp_vel= SymbolicFacetPatchBFI(form = - gamma_stab_vel*(x-x.Other())*(v-v.Other()),skeleton=False,definedonelements=ba_facets)\n",
    "    if gamma_stab_dis > 0:\n",
    "        gp_dis= SymbolicFacetPatchBFI(form = - gamma_stab_dis/h**2*(u-u.Other())*(w-w.Other()),skeleton=False,definedonelements=ba_facets)\n",
    "\n",
    "        \n",
    "    # Combine bilinear and linear form\n",
    "    b = BilinearForm(VhG, symmetric = False)\n",
    "    b += bfi_neg\n",
    "    b += bfi_der\n",
    "    b += lfi_neg\n",
    "    b += lfi_if\n",
    "    #b += gp_vel\n",
    "    #b += gp_dis\n",
    "           \n",
    "        \n",
    "    # Assembly\n",
    "    bfi_neg.SetDefinedOnElements(ci.GetElementsOfType(HASNEG))\n",
    "    bfi_der.SetDefinedOnElements(ci.GetElementsOfType(HASNEG))\n",
    "    lfi_neg.SetDefinedOnElements(ci.GetElementsOfType(HASNEG))\n",
    "    lfi_if.SetDefinedOnElements(ci.GetElementsOfType(IF))\n",
    "    b.Assemble()\n",
    "\n",
    "    \n",
    "    # Newton to linearize non-linear part\n",
    "    Newton(b, gfu, dampfactor= 1)\n",
    "    \n",
    "    \n",
    "    # Redraw velocity or levelset function\n",
    "    #animation = IfPos(-lsetp1, gfu, (0,0))    \n",
    "    scene.Redraw()\n",
    "    print(\"time :\", i*dt)\n",
    "    \n",
    "    "
   ]
  },
  {
   "cell_type": "markdown",
   "metadata": {},
   "source": [
    "To calculate the new level set function solve the PDE\n",
    "$$\\frac{d\\phi}{dt} = \\partial_t\\phi + u\\cdot \\nabla \\phi = 0$$\n",
    "Bilinear form:\n",
    "    \\begin{align*}\n",
    "        a(\\phi,v)=(\\frac{\\partial}{\\partial t}\\phi,v)_{L^2(\\Omega)}+(u\\cdot\\nabla\\phi,v)_{L^2(\\Omega)}=0\n",
    "    \\end{align*}\n",
    "    Streamline-Diffusion:\n",
    "    \\begin{align*}\n",
    "        b(\\phi,v) = ((\\partial_t\\phi+u\\cdot \\nabla \\phi)(u\\cdot\\nabla v))_{L^2(\\Omega)}\n",
    "    \\end{align*}\n",
    "    \n",
    "The timestep is performed using implicit Euler"
   ]
  },
  {
   "cell_type": "code",
   "execution_count": 7,
   "metadata": {},
   "outputs": [
    {
     "data": {
      "application/vnd.jupyter.widget-view+json": {
       "model_id": "1d3a01d69edf4bc3b3b602756a57a2fa",
       "version_major": 2,
       "version_minor": 0
      },
      "text/plain": [
       "NGSWebGuiWidget(value={'ngsolve_version': '6.2.2008-64-gea137ded', 'mesh_dim': 2, 'order2d': 2, 'order3d': 2, …"
      ]
     },
     "metadata": {},
     "output_type": "display_data"
    },
    {
     "data": {
      "application/vnd.jupyter.widget-view+json": {
       "model_id": "1fbf2984391b4d6887265a0caface741",
       "version_major": 2,
       "version_minor": 0
      },
      "text/plain": [
       "NGSWebGuiWidget(value={'ngsolve_version': '6.2.2008-64-gea137ded', 'mesh_dim': 2, 'order2d': 2, 'order3d': 2, …"
      ]
     },
     "metadata": {},
     "output_type": "display_data"
    },
    {
     "data": {
      "application/vnd.jupyter.widget-view+json": {
       "model_id": "6d44c424e6b84022a4c530a8bd93d3f6",
       "version_major": 2,
       "version_minor": 0
      },
      "text/plain": [
       "NGSWebGuiWidget(value={'ngsolve_version': '6.2.2008-64-gea137ded', 'mesh_dim': 2, 'order2d': 2, 'order3d': 2, …"
      ]
     },
     "metadata": {},
     "output_type": "display_data"
    },
    {
     "data": {
      "text/plain": []
     },
     "execution_count": 7,
     "metadata": {},
     "output_type": "execute_result"
    }
   ],
   "source": [
    "    # Calculate new level set function\n",
    "    phi, psi = lsV.TnT()\n",
    "    eps = 0.00000000001 #to avoid dividing by zero if Norm(disp)=0\n",
    "    c = BilinearForm(lsV, symmetric = False)\n",
    "    c += (disp*grad(phi))*(psi+gamma*h/(Norm(disp)+eps)*disp*grad(psi))*dx\n",
    "    c.Assemble()\n",
    "\n",
    "    m = BilinearForm(lsV, symmetric = False)\n",
    "    m += phi*(psi+gamma*h/(Norm(disp)+eps)*disp* grad(psi))*dx\n",
    "    m.Assemble()\n",
    "\n",
    "    mstar = m.mat.CreateMatrix()\n",
    "    mstar.AsVector().data = m.mat.AsVector() + dt * c.mat.AsVector()\n",
    "    invmstar = mstar.Inverse(freedofs=lsV.FreeDofs(),inverse=\"umfpack\")\n",
    "\n",
    "    res = lsetp1.vec.CreateVector()\n",
    "    res.data =  - dt * c.mat * lsetp1.vec\n",
    "    lsetp1.vec.data += invmstar *res \n",
    "    \n",
    "    # Update Cutinfo\n",
    "    ci.Update(levelset=lsetp1)\n",
    "\n",
    "\n",
    "Draw(vel,mesh, 'velocity')\n",
    "Draw(disp,mesh, 'displacement')\n",
    "Draw(animation,mesh)"
   ]
  },
  {
   "cell_type": "code",
   "execution_count": null,
   "metadata": {},
   "outputs": [],
   "source": []
  }
 ],
 "metadata": {
  "kernelspec": {
   "display_name": "Python 3",
   "language": "python",
   "name": "python3"
  },
  "language_info": {
   "codemirror_mode": {
    "name": "ipython",
    "version": 3
   },
   "file_extension": ".py",
   "mimetype": "text/x-python",
   "name": "python",
   "nbconvert_exporter": "python",
   "pygments_lexer": "ipython3",
   "version": "3.7.5"
  }
 },
 "nbformat": 4,
 "nbformat_minor": 2
}
